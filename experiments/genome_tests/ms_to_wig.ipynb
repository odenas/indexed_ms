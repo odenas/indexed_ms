{
 "cells": [
  {
   "cell_type": "code",
   "execution_count": 39,
   "metadata": {
    "collapsed": false
   },
   "outputs": [],
   "source": [
    "import  itertools\n",
    "\n",
    "## 123456\n",
    "## agcgat\n",
    "\n",
    "def iter_digits(fd):\n",
    "    fd_iter = (fd.read(1) for i in xrange(1000000000000))\n",
    "    is_digit = lambda c: c != \" \" and c != \"\" and c != \"\\n\"\n",
    "    buff = list(itertools.takewhile(is_digit, fd_iter))\n",
    "    while buff:\n",
    "        yield \"\".join(buff)\n",
    "        buff = list(itertools.takewhile(is_digit, fd_iter))\n",
    "\n",
    "\n",
    "path = \"genome_data/Homo_sapiens.GRCh38.dna.chromosome.22__Mus_musculus\"\n",
    "header = (\"track type=wiggle_0 name=\\\"hg38.chr22\\\" \" \n",
    "          \"description=\\\"MS_hs22_vs_MM\\\" visibility=full \"\n",
    "          \"autoScale=off viewLimits=0.0:125.0 color=50,150,255 \")\n",
    "\n",
    "start, end = 10000000, 20000000\n",
    "with open(path + \".wig\", 'w') as ofd:\n",
    "    print >>ofd, header\n",
    "    print >>ofd, \"fixedStep  chrom=chr22  start=%d  step=1\" % (start + 10510000,)\n",
    "    with open(path) as fd:\n",
    "        i = 0\n",
    "        while i < start:\n",
    "            fd.readline()\n",
    "            i += 1\n",
    "        while i <= end:\n",
    "            print >>ofd, fd.readline(),\n",
    "            i += 1\n"
   ]
  },
  {
   "cell_type": "code",
   "execution_count": null,
   "metadata": {
    "collapsed": true
   },
   "outputs": [],
   "source": []
  }
 ],
 "metadata": {
  "kernelspec": {
   "display_name": "Python 2",
   "language": "python",
   "name": "python2"
  },
  "language_info": {
   "codemirror_mode": {
    "name": "ipython",
    "version": 2
   },
   "file_extension": ".py",
   "mimetype": "text/x-python",
   "name": "python",
   "nbconvert_exporter": "python",
   "pygments_lexer": "ipython2",
   "version": "2.7.11"
  }
 },
 "nbformat": 4,
 "nbformat_minor": 0
}
