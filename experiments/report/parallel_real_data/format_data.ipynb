{
 "cells": [
  {
   "cell_type": "code",
   "execution_count": 21,
   "metadata": {},
   "outputs": [],
   "source": [
    "import glob, os\n",
    "import numpy as np\n",
    "import pandas as pd\n"
   ]
  },
  {
   "cell_type": "code",
   "execution_count": 33,
   "metadata": {},
   "outputs": [],
   "source": [
    "# rows are runs, and whose columns are nThreads. \n",
    "# in subdir <parallel-individuals>, the last row corresponds to the case S=T. \n",
    "\n",
    "def parse_file(fname):\n",
    "    parse_line = lambda l: map(int, filter(bool, l.strip().split(',')))\n",
    "\n",
    "    d = []\n",
    "    with open(fname) as fd:\n",
    "        for run_idx, line in enumerate(fd):\n",
    "            vals = parse_line(line)\n",
    "            inp = 'individ-' + ('same' if run_idx == 27 else 'different')\n",
    "            for nthreads_idx, v in enumerate(vals):\n",
    "                d.append((run_idx + 1, nthreads_idx + 1, inp, v))\n",
    "    return pd.DataFrame(d, columns=['run', 'nthreads', 'inp_type', 'time_ms'])\n",
    "\n",
    "\n"
   ]
  },
  {
   "cell_type": "code",
   "execution_count": 34,
   "metadata": {},
   "outputs": [],
   "source": [
    "(pd.concat(parse_file(path).assign(name=os.path.basename(path).split('.')[0]) \n",
    "           for path in glob.glob('parallel-individuals/*stats'))\n",
    " .to_csv('individual_data.csv', index=False))"
   ]
  },
  {
   "cell_type": "code",
   "execution_count": 32,
   "metadata": {},
   "outputs": [],
   "source": [
    "(pd.concat(parse_file(path).assign(name=os.path.basename(path).split('.')[0]) \n",
    "           for path in glob.glob('parallel-similar/*stats'))\n",
    " .to_csv('similar_data.csv', index=False))"
   ]
  },
  {
   "cell_type": "code",
   "execution_count": null,
   "metadata": {},
   "outputs": [],
   "source": []
  }
 ],
 "metadata": {
  "kernelspec": {
   "display_name": "Python 2",
   "language": "python",
   "name": "python2"
  },
  "language_info": {
   "codemirror_mode": {
    "name": "ipython",
    "version": 2
   },
   "file_extension": ".py",
   "mimetype": "text/x-python",
   "name": "python",
   "nbconvert_exporter": "python",
   "pygments_lexer": "ipython2",
   "version": "2.7.12"
  }
 },
 "nbformat": 4,
 "nbformat_minor": 2
}
