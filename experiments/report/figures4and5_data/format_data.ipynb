{
 "cells": [
  {
   "cell_type": "markdown",
   "metadata": {},
   "source": [
    "# Figure 4"
   ]
  },
  {
   "cell_type": "code",
   "execution_count": 2,
   "metadata": {},
   "outputs": [],
   "source": [
    "%reset -f \n",
    "\n",
    "import numpy as np\n",
    "import pandas as pd\n",
    "\n",
    "flags = [\"F_DR_M\", \"F_DR_MC\", \n",
    "         \"F_DR_LZ\", \"DR_LZ\", \"LZ\", \n",
    "         \"F_DR\", \"DR\", \n",
    "         \"F_DR_LZ_P\", \"DR_LZ_P\", \"LZ_P\", \n",
    "         \"F_DR_P\", \"DR_P\", \"P\"]\n",
    "\n",
    "def line_of_numbers(line):\n",
    "    return map(float, line.split())\n",
    "\n",
    "def read_file(inp):\n",
    "    global flags\n",
    "    data = []\n",
    "    with open(inp) as fd:\n",
    "        for i, row_iter in enumerate(map(line_of_numbers, fd)):\n",
    "            data.append(pd.DataFrame({'value': list(row_iter), 'flag': flags[i]}))\n",
    "    return pd.concat(data)\n",
    "\n",
    "def dump(df, out):\n",
    "    df.to_csv(out, index=False)\n",
    "\n",
    "\n",
    "dump(read_file('./please-redraw/figure4-proteome.txt'), \n",
    "     'figure4-proteome.txt')\n",
    "dump(read_file('./please-redraw/figure4-proteome-bacteria.txt'), \n",
    "     './figure4-proteome-bacteria.txt')\n",
    "\n",
    "dump(read_file('./please-redraw/figure4-genome.txt'), \n",
    " 'figure4-genome.txt')\n",
    "dump(read_file('./please-redraw/figure4-genome-bacteria.txt'),\n",
    " './figure4-genome-bacteria.txt')"
   ]
  },
  {
   "cell_type": "markdown",
   "metadata": {},
   "source": [
    "# Figure 5"
   ]
  },
  {
   "cell_type": "code",
   "execution_count": 6,
   "metadata": {},
   "outputs": [],
   "source": [
    "import os\n",
    "\n",
    "def read_file(path):\n",
    "    fname = os.path.basename(path)\n",
    "    sequence = ('' if 'bacteria' in fname else 'non-') + 'bacteria'\n",
    "    setup = {'genome-bacteria.txt': 'genome',\n",
    "             'genome-similar.txt': 'genome similar',\n",
    "             'genome.txt': 'genome', \n",
    "             'proteome-bacteria.txt': 'proteome',\n",
    "             'proteome-similar.txt': 'proteome similar',\n",
    "             'proteome.txt': 'proteome',\n",
    "            }[(fname\n",
    "               .replace('figure5-memory-', '')\n",
    "               .replace('figure5-time-', ''))]\n",
    "    data = []\n",
    "    with open(path) as fd:\n",
    "        for i, row_iter in enumerate(map(line_of_numbers, fd)):\n",
    "            data.append(pd.DataFrame({'value': list(row_iter),\n",
    "                                      'sequence': sequence,\n",
    "                                      'setup': setup\n",
    "                                     }))\n",
    "    return pd.concat(data)\n",
    "\n",
    "\n",
    "memory_paths = \"\"\"please-redraw/figure5-memory-genome-bacteria.txt\n",
    "please-redraw/figure5-memory-genome-similar.txt\n",
    "please-redraw/figure5-memory-genome.txt\n",
    "please-redraw/figure5-memory-proteome-bacteria.txt\n",
    "please-redraw/figure5-memory-proteome-similar.txt\n",
    "please-redraw/figure5-memory-proteome.txt\"\"\".split(\"\\n\")\n",
    "\n",
    "\n",
    "for p in memory_paths:\n",
    "    dump(read_file(p), os.path.basename(p))\n",
    "\n",
    "time_paths = \"\"\"please-redraw/figure5-time-genome-bacteria.txt\n",
    "please-redraw/figure5-time-genome-similar.txt\n",
    "please-redraw/figure5-time-genome.txt\n",
    "please-redraw/figure5-time-proteome-bacteria.txt\n",
    "please-redraw/figure5-time-proteome-similar.txt\n",
    "please-redraw/figure5-time-proteome.txt\"\"\".split(\"\\n\")\n",
    "\n",
    "for p in time_paths:\n",
    "    dump(read_file(p), os.path.basename(p))\n"
   ]
  },
  {
   "cell_type": "code",
   "execution_count": null,
   "metadata": {},
   "outputs": [],
   "source": []
  }
 ],
 "metadata": {
  "kernelspec": {
   "display_name": "Env for matching statistics",
   "language": "python",
   "name": "mstat_env"
  },
  "language_info": {
   "codemirror_mode": {
    "name": "ipython",
    "version": 3
   },
   "file_extension": ".py",
   "mimetype": "text/x-python",
   "name": "python",
   "nbconvert_exporter": "python",
   "pygments_lexer": "ipython3",
   "version": "3.5.2"
  }
 },
 "nbformat": 4,
 "nbformat_minor": 2
}
