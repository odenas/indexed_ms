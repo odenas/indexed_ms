{
 "cells": [
  {
   "cell_type": "code",
   "execution_count": 32,
   "metadata": {},
   "outputs": [
    {
     "name": "stdout",
     "output_type": "stream",
     "text": [
      "The autoreload extension is already loaded. To reload it, use:\n",
      "  %reload_ext autoreload\n"
     ]
    }
   ],
   "source": [
    "%load_ext autoreload\n",
    "%autoreload 2\n",
    "%matplotlib inline\n",
    "\n",
    "import numpy as np\n",
    "import pandas as pd\n",
    "from collections import Counter\n",
    "import random\n",
    "import shutil\n",
    "from mstat.dataset import rnd_textfile, _check_len, leave1out, mutated_textfile\n",
    "import matplotlib\n",
    "\n",
    "\n",
    "def t2():\n",
    "    path = 'dump_rnd.txt'\n",
    "    np.random.seed(10012)\n",
    "    alp = list('abcdef')\n",
    "    prob = np.array([2, 0.1, 0.9, 1, 1, 1], dtype=np.float32) / len(alp)\n",
    "    \n",
    "    rnd_textfile(path, 504, Counter(('a' * 20) + \n",
    "                                   ('b')  + \n",
    "                                   ('c' * 9) + \n",
    "                                   ('d' * 10) + \n",
    "                                   ('e' * 10) + \n",
    "                                   ('f' * 10)\n",
    "                                  ))\n",
    "    print _check_len(path)\n",
    "    with open(path) as fd:\n",
    "        cnt = Counter(fd.read().rstrip())\n",
    "    n = float(sum(cnt.values()))\n",
    "    return pd.DataFrame([(k, v, v/n) for k, v in cnt.iteritems()], \n",
    "                        columns=['c', 'cnt', 'freq'])"
   ]
  },
  {
   "cell_type": "code",
   "execution_count": 33,
   "metadata": {},
   "outputs": [
    {
     "name": "stdout",
     "output_type": "stream",
     "text": [
      "504\n"
     ]
    },
    {
     "data": {
      "text/plain": [
       "<matplotlib.axes._subplots.AxesSubplot at 0x7f445268f1d0>"
      ]
     },
     "execution_count": 33,
     "metadata": {},
     "output_type": "execute_result"
    },
    {
     "data": {
      "image/png": "[encoded data removed]",
      "text/plain": [
       "<matplotlib.figure.Figure at 0x7f445270db50>"
      ]
     },
     "metadata": {},
     "output_type": "display_data"
    }
   ],
   "source": [
    "(t2().set_index('c')[['freq']] / 0.15).plot(kind='bar')"
   ]
  },
  {
   "cell_type": "code",
   "execution_count": 42,
   "metadata": {},
   "outputs": [
    {
     "name": "stdout",
     "output_type": "stream",
     "text": [
      " 0 a\n",
      " 1 a\n",
      " 2 a\n",
      " 3 b --> a\n",
      " 4 a --> b\n",
      " 5 a\n",
      " 6 b --> a\n",
      " 7 a\n",
      " 8 a\n",
      " 9 a\n",
      "10 a\n",
      "11 a\n",
      "12 a\n",
      "13 a --> b\n",
      "14 b --> a\n",
      "15 a\n",
      "16 a\n",
      "17 a --> b\n",
      "18 a\n",
      "19 a\n"
     ]
    }
   ],
   "source": [
    "def mutated_textfile(orig_path, mut_path, num_mutations, alp):\n",
    "    \"\"\"\n",
    "    create a new mutated text file from the given one\n",
    "    \"\"\"\n",
    "\n",
    "    shutil.copyfile(orig_path, mut_path)\n",
    "    mutate_block(mut_path, num_mutations, 0, _check_len(mut_path), alp)\n",
    "    LG.info(\"created %s of length %d from %s of length %d\",\n",
    "            mut_path, _check_len(mut_path), orig_path, _check_len(orig_path))\n",
    "    return \n",
    "\n",
    "\n",
    "def m1():\n",
    "    p = './rnd_30s_dis_20t_aaaab.'\n",
    "    with open(p+'s') as fd:\n",
    "        orig = fd.read().strip()\n",
    "    with open(p + 't') as fd:\n",
    "        mut = fd.read().strip()\n",
    "\n",
    "    for i, (a, b) in enumerate(zip(orig, mut)):\n",
    "        print \"%2d\" % i,\n",
    "        if a == b:\n",
    "            print a\n",
    "        else:\n",
    "            print a, \"-->\", b\n",
    "m1()"
   ]
  },
  {
   "cell_type": "code",
   "execution_count": null,
   "metadata": {},
   "outputs": [],
   "source": []
  }
 ],
 "metadata": {
  "kernelspec": {
   "display_name": "Python 2",
   "language": "python",
   "name": "python2"
  },
  "language_info": {
   "codemirror_mode": {
    "name": "ipython",
    "version": 2
   },
   "file_extension": ".py",
   "mimetype": "text/x-python",
   "name": "python",
   "nbconvert_exporter": "python",
   "pygments_lexer": "ipython2",
   "version": "2.7.12"
  }
 },
 "nbformat": 4,
 "nbformat_minor": 2
}
