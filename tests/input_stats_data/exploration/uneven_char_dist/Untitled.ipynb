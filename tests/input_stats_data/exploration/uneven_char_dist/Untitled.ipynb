{
 "cells": [
  {
   "cell_type": "code",
   "execution_count": 29,
   "metadata": {},
   "outputs": [
    {
     "name": "stdout",
     "output_type": "stream",
     "text": [
      "The autoreload extension is already loaded. To reload it, use:\n",
      "  %reload_ext autoreload\n"
     ]
    }
   ],
   "source": [
    "%load_ext autoreload\n",
    "%autoreload 2\n",
    "%matplotlib inline\n",
    "\n",
    "import numpy as np\n",
    "import pandas as pd\n",
    "from collections import Counter\n",
    "import random\n",
    "import shutil\n",
    "import itertools\n",
    "from mstat import get_output\n",
    "from mstat.dataset import rnd_textfile, _check_len, leave1out, mutated_textfile, rep_textfile\n",
    "from mstat.text_stats import input_char_table, mutation_table, repfile_bitmap\n",
    "import matplotlib\n",
    "import os\n",
    "\n",
    "\n",
    "def disp_mutation_table(tb):\n",
    "    for i, r in tb.iterrows():\n",
    "        print \"%2d\" % i,\n",
    "        if r.orig == r.mut:\n",
    "            print r.orig\n",
    "        else:\n",
    "            print r.orig, \"-->\", r.mut\n",
    "\n",
    "\n",
    "def t2():\n",
    "    path = 'dump_rnd.txt'\n",
    "    np.random.seed(10012)\n",
    "    alp = list('abcdef')\n",
    "    \n",
    "    rnd_textfile(path, 504, Counter(('a' * 20) + \n",
    "                                   ('b')  + \n",
    "                                   ('c' * 9) + \n",
    "                                   ('d' * 10) + \n",
    "                                   ('e' * 10) + \n",
    "                                   ('f' * 10)\n",
    "                                  ))\n",
    "    print _check_len(path)\n",
    "    return input_char_table(path)\n"
   ]
  },
  {
   "cell_type": "code",
   "execution_count": 30,
   "metadata": {},
   "outputs": [
    {
     "name": "stdout",
     "output_type": "stream",
     "text": [
      "504\n"
     ]
    },
    {
     "data": {
      "text/plain": [
       "<matplotlib.axes._subplots.AxesSubplot at 0x7f3dd5253a90>"
      ]
     },
     "execution_count": 30,
     "metadata": {},
     "output_type": "execute_result"
    },
    {
     "data": {
      "image/png": "[encoded data removed]",
      "text/plain": [
       "<matplotlib.figure.Figure at 0x7f3e04607e10>"
      ]
     },
     "metadata": {},
     "output_type": "display_data"
    }
   ],
   "source": [
    "(t2().set_index('c')[['freq']] / 0.15).plot(kind='bar')"
   ]
  },
  {
   "cell_type": "code",
   "execution_count": 31,
   "metadata": {},
   "outputs": [],
   "source": [
    "\n",
    "def m1():\n",
    "    p = './dump_rnd.txt'\n",
    "    tb = mutation_table(p, p + '.mut', 'orig', 'mut')\n",
    "    return tb\n",
    "\n",
    "#mutated_textfile('dump_rnd.txt', 'dump_rnd.txt.mut', 40, 'abcdef')\n",
    "#disp_mutation_table(m1())"
   ]
  },
  {
   "cell_type": "code",
   "execution_count": 36,
   "metadata": {},
   "outputs": [],
   "source": [
    "\n",
    "rep_textfile('dump_rep.txt', 600, 30, 4, Counter('abcd'))"
   ]
  },
  {
   "cell_type": "code",
   "execution_count": 37,
   "metadata": {},
   "outputs": [
    {
     "data": {
      "text/plain": [
       "<matplotlib.image.AxesImage at 0x7f3dd7c9cb90>"
      ]
     },
     "execution_count": 37,
     "metadata": {},
     "output_type": "execute_result"
    },
    {
     "data": {
      "image/png": "[encoded data removed]",
      "text/plain": [
       "<matplotlib.figure.Figure at 0x7f3e0b37ce10>"
      ]
     },
     "metadata": {},
     "output_type": "display_data"
    }
   ],
   "source": [
    "\n",
    "matplotlib.pyplot.matshow(repfile_bitmap('dump_rep.txt', 30), cmap=matplotlib.pyplot.cm.gray)\n"
   ]
  },
  {
   "cell_type": "code",
   "execution_count": null,
   "metadata": {},
   "outputs": [],
   "source": []
  }
 ],
 "metadata": {
  "kernelspec": {
   "display_name": "Python 2",
   "language": "python",
   "name": "python2"
  },
  "language_info": {
   "codemirror_mode": {
    "name": "ipython",
    "version": 2
   },
   "file_extension": ".py",
   "mimetype": "text/x-python",
   "name": "python",
   "nbconvert_exporter": "python",
   "pygments_lexer": "ipython2",
   "version": "2.7.12"
  }
 },
 "nbformat": 4,
 "nbformat_minor": 2
}
