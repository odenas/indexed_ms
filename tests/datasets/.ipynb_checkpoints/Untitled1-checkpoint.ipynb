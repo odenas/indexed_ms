{
 "cells": [
  {
   "cell_type": "code",
   "execution_count": 112,
   "metadata": {},
   "outputs": [
    {
     "name": "stdout",
     "output_type": "stream",
     "text": [
      "0 1 2 3 4 5 6 7 8 9\n",
      "* . . . . . * * . .\n",
      ". * . . . . . * . .\n",
      ". . . . . . * * . .\n",
      ". . * . . . . . . .\n",
      ". * . . . . . . * .\n",
      ". . * . . * . . . .\n",
      ". . . . . . * . * *\n",
      "* . . . . . . * . *\n",
      ". . * . . . * . . .\n",
      "* . . . . . * . . .\n",
      "\n"
     ]
    }
   ],
   "source": [
    "print \"0 1 2 3 4 5 6 7 8 9\"\n",
    "s1 = open('rep_100s_dis_20t_abcd.s.seed').read() * 10\n",
    "s2 = open('rep_100s_dis_20t_abcd.s').read()\n",
    "for i, (a, b) in enumerate(zip(s1, s2)):\n",
    "    print \".\" if a == b else \"*\",\n",
    "    if ((i+1) % 10) == 0:\n",
    "        print \n",
    "print"
   ]
  },
  {
   "cell_type": "code",
   "execution_count": 111,
   "metadata": {},
   "outputs": [
    {
     "name": "stdout",
     "output_type": "stream",
     "text": [
      "adaacaaddd\n",
      "adaacaaddd\n"
     ]
    }
   ],
   "source": [
    "print open('rep_100s_dis_20t_abcd.s').read()[:10]\n",
    "print open('rep_100s_dis_20t_abcd.s').read()[:10]"
   ]
  },
  {
   "cell_type": "code",
   "execution_count": null,
   "metadata": {
    "collapsed": true
   },
   "outputs": [],
   "source": []
  }
 ],
 "metadata": {
  "kernelspec": {
   "display_name": "Python 2",
   "language": "python",
   "name": "python2"
  },
  "language_info": {
   "codemirror_mode": {
    "name": "ipython",
    "version": 2
   },
   "file_extension": ".py",
   "mimetype": "text/x-python",
   "name": "python",
   "nbconvert_exporter": "python",
   "pygments_lexer": "ipython2",
   "version": "2.7.13"
  }
 },
 "nbformat": 4,
 "nbformat_minor": 2
}
