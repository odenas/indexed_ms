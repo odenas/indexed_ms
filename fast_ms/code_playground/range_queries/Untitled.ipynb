{
 "cells": [
  {
   "cell_type": "code",
   "execution_count": 2,
   "metadata": {},
   "outputs": [
    {
     "name": "stderr",
     "output_type": "stream",
     "text": [
      "*** using base directory: /home/odenas/code/matching_statistics/indexed_ms/fast_ms/bin ***\n"
     ]
    }
   ],
   "source": [
    "import sys\n",
    "sys.path.append(\"../../py_interface/\")\n",
    "from mstat import indexes"
   ]
  },
  {
   "cell_type": "code",
   "execution_count": 24,
   "metadata": {},
   "outputs": [
    {
     "name": "stdout",
     "output_type": "stream",
     "text": [
      "bcaddcbdaaadccddaacacbcbcbcccccacabbbddddcddcdcaddddacaabdbbdadacacdbbcadcbbcaaccacbabdbcbaaabbbbccadaccdaaaadddabdcbcbcbbcaacdaaadcacaddcdbcdbdbcaccbcaaacaccdabacdaacdacaadbdbbaabdadaccddbabdaacdcdbb\n",
      "acaddcbdaaadccdbaacacbcbcbccccaacabbbddddcddcccaddddacaabdbbaada\n"
     ]
    },
    {
     "data": {
      "text/html": [
       "<div>\n",
       "<style scoped>\n",
       "    .dataframe tbody tr th:only-of-type {\n",
       "        vertical-align: middle;\n",
       "    }\n",
       "\n",
       "    .dataframe tbody tr th {\n",
       "        vertical-align: top;\n",
       "    }\n",
       "\n",
       "    .dataframe thead th {\n",
       "        text-align: right;\n",
       "    }\n",
       "</style>\n",
       "<table border=\"1\" class=\"dataframe\">\n",
       "  <thead>\n",
       "    <tr style=\"text-align: right;\">\n",
       "      <th></th>\n",
       "      <th>t_i</th>\n",
       "      <th>MS</th>\n",
       "      <th>nzeros</th>\n",
       "      <th>ms</th>\n",
       "      <th>runs</th>\n",
       "      <th>psum</th>\n",
       "    </tr>\n",
       "    <tr>\n",
       "      <th>i</th>\n",
       "      <th></th>\n",
       "      <th></th>\n",
       "      <th></th>\n",
       "      <th></th>\n",
       "      <th></th>\n",
       "      <th></th>\n",
       "    </tr>\n",
       "  </thead>\n",
       "  <tbody>\n",
       "    <tr>\n",
       "      <th>-1</th>\n",
       "      <td></td>\n",
       "      <td>1</td>\n",
       "      <td>0</td>\n",
       "      <td></td>\n",
       "      <td>-1</td>\n",
       "      <td>0</td>\n",
       "    </tr>\n",
       "    <tr>\n",
       "      <th>0</th>\n",
       "      <td>a</td>\n",
       "      <td>6</td>\n",
       "      <td>6</td>\n",
       "      <td>0000001</td>\n",
       "      <td>0</td>\n",
       "      <td>6</td>\n",
       "    </tr>\n",
       "    <tr>\n",
       "      <th>1</th>\n",
       "      <td>c</td>\n",
       "      <td>14</td>\n",
       "      <td>9</td>\n",
       "      <td>0000000001</td>\n",
       "      <td>0</td>\n",
       "      <td>20</td>\n",
       "    </tr>\n",
       "    <tr>\n",
       "      <th>2</th>\n",
       "      <td>a</td>\n",
       "      <td>13</td>\n",
       "      <td>0</td>\n",
       "      <td>1</td>\n",
       "      <td>1</td>\n",
       "      <td>33</td>\n",
       "    </tr>\n",
       "    <tr>\n",
       "      <th>3</th>\n",
       "      <td>d</td>\n",
       "      <td>12</td>\n",
       "      <td>0</td>\n",
       "      <td>1</td>\n",
       "      <td>1</td>\n",
       "      <td>45</td>\n",
       "    </tr>\n",
       "  </tbody>\n",
       "</table>\n",
       "</div>"
      ],
      "text/plain": [
       "   t_i  MS  nzeros          ms  runs  psum\n",
       "i                                         \n",
       "-1       1       0                -1     0\n",
       " 0   a   6       6     0000001     0     6\n",
       " 1   c  14       9  0000000001     0    20\n",
       " 2   a  13       0           1     1    33\n",
       " 3   d  12       0           1     1    45"
      ]
     },
     "execution_count": 24,
     "metadata": {},
     "output_type": "execute_result"
    }
   ],
   "source": [
    "\n",
    "def get_s(fname):\n",
    "    with open(fname) as fd:\n",
    "        return fd.read().strip()\n",
    "\n",
    "s = get_s('mut_200s_64t_15.s')\n",
    "t = get_s('mut_200s_64t_15.t')\n",
    "print(s)\n",
    "print(t)\n",
    "idx = (indexes.MatchingStatistics.ms_table(t, s).assign(psum = lambda x: x.MS.cumsum() - 1))\n",
    "idx.head(5)"
   ]
  },
  {
   "cell_type": "code",
   "execution_count": 30,
   "metadata": {},
   "outputs": [
    {
     "data": {
      "text/plain": [
       "25"
      ]
     },
     "execution_count": 30,
     "metadata": {},
     "output_type": "execute_result"
    }
   ],
   "source": [
    "_ridx_str = \"0 6 6 56 96 111 117 117 117 167 207 224 232 232 232 282 322 337 345 345 345 395 435 451 461\"\n",
    "ridx = list(map(int, _ridx_str.split()))\n",
    "len(ridx)"
   ]
  },
  {
   "cell_type": "code",
   "execution_count": 31,
   "metadata": {},
   "outputs": [
    {
     "data": {
      "text/plain": [
       "(65, 6)"
      ]
     },
     "execution_count": 31,
     "metadata": {},
     "output_type": "execute_result"
    }
   ],
   "source": [
    "idx.shape"
   ]
  },
  {
   "cell_type": "code",
   "execution_count": null,
   "metadata": {},
   "outputs": [],
   "source": []
  }
 ],
 "metadata": {
  "kernelspec": {
   "display_name": "Python 3",
   "language": "python",
   "name": "python3"
  },
  "language_info": {
   "codemirror_mode": {
    "name": "ipython",
    "version": 3
   },
   "file_extension": ".py",
   "mimetype": "text/x-python",
   "name": "python",
   "nbconvert_exporter": "python",
   "pygments_lexer": "ipython3",
   "version": "3.7.2"
  }
 },
 "nbformat": 4,
 "nbformat_minor": 2
}
